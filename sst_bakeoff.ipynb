{
 "cells": [
  {
   "cell_type": "markdown",
   "metadata": {},
   "source": [
    "# Bake-off: Stanford Sentiment Treebank"
   ]
  },
  {
   "cell_type": "code",
   "execution_count": 1,
   "metadata": {},
   "outputs": [],
   "source": [
    "__author__ = \"Christopher Potts\"\n",
    "__version__ = \"CS224u, Stanford, Spring 2018 term\""
   ]
  },
  {
   "cell_type": "markdown",
   "metadata": {},
   "source": [
    "## Contents\n",
    "\n",
    "0. [Overview](#Overview)\n",
    "0. [Bake-off submission](#Bake-off-submission)\n",
    "0. [Methodological note](#Methodological-note)\n",
    "0. [Set-up](#Set-up)\n",
    "0. [Baseline](#Baseline)\n",
    "0. [TfRNNClassifier wrapper](#TfRNNClassifier-wrapper)\n",
    "0. [TreeNN wrapper](#TreeNN-wrapper)"
   ]
  },
  {
   "cell_type": "markdown",
   "metadata": {},
   "source": [
    "## Overview\n",
    "\n",
    "The goal of this in-class bake-off is to __achieve the highest average F1 score__ on the SST development set, with the binary class function.\n",
    "\n",
    "The only restriction: __you cannot make any use of the subtree labels__."
   ]
  },
  {
   "cell_type": "markdown",
   "metadata": {},
   "source": [
    "## Bake-off submission\n",
    "\n",
    "1. A description of the model you created.\n",
    "1. The value of `f1-score` in the `avg / total` row of the classification report.\n",
    "\n",
    "Submission URL: https://docs.google.com/forms/d/1R41Zxxils7lOPzuThMdv2p1TKmFEy8c0DyUg-YkzTa0/edit"
   ]
  },
  {
   "cell_type": "markdown",
   "metadata": {},
   "source": [
    "## Methodological note\n",
    "\n",
    "You don't have to use the experimental framework defined below (based on `sst`). However, if you don't use `sst.experiment` as below, then make sure you're training only on `train`, evaluating on `dev`, and that you report with \n",
    "\n",
    "```\n",
    "from sklearn.metrics import classification_report\n",
    "classification_report(y_dev, predictions)\n",
    "```\n",
    "where `y_dev = [y for tree, y in sst.dev_reader(class_func=sst.binary_class_func)]`"
   ]
  },
  {
   "cell_type": "markdown",
   "metadata": {},
   "source": [
    "## Set-up\n",
    "\n",
    "See [the first notebook in this unit](sst_01_overview.ipynb#Set-up) for set-up instructions."
   ]
  },
  {
   "cell_type": "code",
   "execution_count": 1,
   "metadata": {},
   "outputs": [
    {
     "name": "stderr",
     "output_type": "stream",
     "text": [
      "/Users/mwilber/.pyenv/versions/3.6.1/lib/python3.6/importlib/_bootstrap.py:205: RuntimeWarning: numpy.dtype size changed, may indicate binary incompatibility. Expected 96, got 88\n",
      "  return f(*args, **kwds)\n",
      "/Users/mwilber/.pyenv/versions/3.6.1/lib/python3.6/importlib/_bootstrap.py:205: RuntimeWarning: numpy.dtype size changed, may indicate binary incompatibility. Expected 96, got 88\n",
      "  return f(*args, **kwds)\n"
     ]
    }
   ],
   "source": [
    "from collections import Counter\n",
    "from rnn_classifier import RNNClassifier\n",
    "from sklearn.linear_model import LogisticRegression\n",
    "import sst\n",
    "import tensorflow as tf\n",
    "from tf_rnn_classifier import TfRNNClassifier\n",
    "from tree_nn import TreeNN"
   ]
  },
  {
   "cell_type": "markdown",
   "metadata": {},
   "source": [
    "## Baseline"
   ]
  },
  {
   "cell_type": "code",
   "execution_count": 2,
   "metadata": {},
   "outputs": [],
   "source": [
    "def unigrams_phi(tree):\n",
    "    \"\"\"The basis for a unigrams feature function.\n",
    "    \n",
    "    Parameters\n",
    "    ----------\n",
    "    tree : nltk.tree\n",
    "        The tree to represent.\n",
    "    \n",
    "    Returns\n",
    "    -------    \n",
    "    defaultdict\n",
    "        A map from strings to their counts in `tree`. (Counter maps a \n",
    "        list to a dict of counts of the elements in that list.)\n",
    "    \n",
    "    \"\"\"\n",
    "    return Counter(tree.leaves())"
   ]
  },
  {
   "cell_type": "code",
   "execution_count": 9,
   "metadata": {},
   "outputs": [],
   "source": [
    "def fit_maxent_classifier(X, y):\n",
    "    mod = LogisticRegression(fit_intercept=True)\n",
    "    mod.fit(X, y)\n",
    "    return mod"
   ]
  },
  {
   "cell_type": "code",
   "execution_count": 11,
   "metadata": {},
   "outputs": [
    {
     "name": "stdout",
     "output_type": "stream",
     "text": [
      "Accuracy: 0.772\n",
      "             precision    recall  f1-score   support\n",
      "\n",
      "   negative      0.783     0.741     0.761       428\n",
      "   positive      0.762     0.802     0.782       444\n",
      "\n",
      "avg / total      0.772     0.772     0.772       872\n",
      "\n",
      "Error: Nothing 's at stake , just a twisty double-cross you can smell a mile away -- still , the derivative Nine Queens is lots of fun . marked as negative but was positive\n",
      "Error: A beguiling splash of pastel colors and prankish comedy from Disney . marked as negative but was positive\n",
      "Error: The film serves as a valuable time capsule to remind us of the devastating horror suffered by an entire people . marked as negative but was positive\n",
      "Error: ... an otherwise intense , twist-and-turn thriller that certainly should n't hurt talented young Gaghan 's resume . marked as negative but was positive\n",
      "Error: A poignant , artfully crafted meditation on mortality . marked as negative but was positive\n"
     ]
    }
   ],
   "source": [
    "_ = sst.experiment(\n",
    "    unigrams_phi,                      # Free to write your own!\n",
    "    fit_maxent_classifier,             # Free to write your own!\n",
    "    train_reader=sst.train_reader,     # Fixed by the competition.\n",
    "    assess_reader=sst.dev_reader,      # Fixed.\n",
    "    class_func=sst.binary_class_func,\n",
    "    view_errors=5)  # Fixed."
   ]
  },
  {
   "cell_type": "markdown",
   "metadata": {},
   "source": [
    "By the way, with some informal hyperparameter search on a GPU machine, I found this model\n",
    "```\n",
    "tf_rnn_glove = TfRNNClassifier(\n",
    "    sst_glove_vocab,\n",
    "    embedding=glove_embedding, ## 100d version\n",
    "    hidden_dim=300,\n",
    "    max_length=52,\n",
    "    hidden_activation=tf.nn.relu,\n",
    "    cell_class=tf.nn.rnn_cell.LSTMCell,\n",
    "    train_embedding=True,\n",
    "    max_iter=5000,\n",
    "    batch_size=1028,\n",
    "    eta=0.001)\n",
    "```\n",
    "which finished with almost identical performance to the above:\n",
    "    \n",
    "```\n",
    "             precision    recall  f1-score   support\n",
    "\n",
    "   negative       0.78      0.75      0.76       428\n",
    "   positive       0.77      0.80      0.78       444\n",
    "\n",
    "avg / total       0.77      0.77      0.77       872\n",
    "```"
   ]
  },
  {
   "cell_type": "markdown",
   "metadata": {},
   "source": [
    "## TfRNNClassifier wrapper"
   ]
  },
  {
   "cell_type": "code",
   "execution_count": 8,
   "metadata": {},
   "outputs": [],
   "source": [
    "def rnn_phi(tree):\n",
    "    return tree.leaves()    "
   ]
  },
  {
   "cell_type": "code",
   "execution_count": 11,
   "metadata": {},
   "outputs": [],
   "source": [
    "def fit_tf_rnn_classifier(X, y):\n",
    "    vocab = sst.get_vocab(X, n_words=3000)\n",
    "    mod = TfRNNClassifier(\n",
    "        vocab, \n",
    "        eta=0.05,\n",
    "        batch_size=2048,\n",
    "        embed_dim=50,\n",
    "        hidden_dim=50,\n",
    "        max_length=52, \n",
    "        max_iter=10,\n",
    "        cell_class=tf.nn.rnn_cell.LSTMCell,\n",
    "        hidden_activation=tf.nn.tanh,\n",
    "        train_embedding=True)\n",
    "    mod.fit(X, y)\n",
    "    return mod"
   ]
  },
  {
   "cell_type": "code",
   "execution_count": 12,
   "metadata": {},
   "outputs": [
    {
     "name": "stderr",
     "output_type": "stream",
     "text": [
      "Iteration 10: loss: 2.7656717896461487"
     ]
    },
    {
     "name": "stdout",
     "output_type": "stream",
     "text": [
      "Accuracy: 0.522\n",
      "             precision    recall  f1-score   support\n",
      "\n",
      "   negative      0.522     0.304     0.384       428\n",
      "   positive      0.522     0.732     0.609       444\n",
      "\n",
      "avg / total      0.522     0.522     0.499       872\n",
      "\n"
     ]
    }
   ],
   "source": [
    "_ = sst.experiment(\n",
    "    rnn_phi,\n",
    "    fit_tf_rnn_classifier, \n",
    "    vectorize=False,  # For deep learning, use `vectorize=False`.\n",
    "    assess_reader=sst.dev_reader)"
   ]
  },
  {
   "cell_type": "markdown",
   "metadata": {},
   "source": [
    "## TreeNN wrapper"
   ]
  },
  {
   "cell_type": "code",
   "execution_count": 13,
   "metadata": {},
   "outputs": [],
   "source": [
    "def tree_phi(tree):\n",
    "    return tree"
   ]
  },
  {
   "cell_type": "code",
   "execution_count": 18,
   "metadata": {},
   "outputs": [],
   "source": [
    "def fit_tree_nn_classifier(X, y):\n",
    "    vocab = sst.get_vocab(X, n_words=3000)\n",
    "    mod = TreeNN(\n",
    "        vocab, \n",
    "        embed_dim=2, \n",
    "        max_iter=10)\n",
    "    mod.fit(X, y)\n",
    "    return mod"
   ]
  },
  {
   "cell_type": "code",
   "execution_count": 19,
   "metadata": {},
   "outputs": [
    {
     "name": "stderr",
     "output_type": "stream",
     "text": [
      "Finished epoch 10 of 10; error is 0.6924667762476523"
     ]
    },
    {
     "name": "stdout",
     "output_type": "stream",
     "text": [
      "Accuracy: 0.505\n",
      "             precision    recall  f1-score   support\n",
      "\n",
      "   negative      0.480     0.114     0.185       428\n",
      "   positive      0.508     0.881     0.644       444\n",
      "\n",
      "avg / total      0.494     0.505     0.419       872\n",
      "\n"
     ]
    }
   ],
   "source": [
    "_ = sst.experiment(\n",
    "    rnn_phi,\n",
    "    fit_tree_nn_classifier, \n",
    "    vectorize=False,  # For deep learning, use `vectorize=False`.\n",
    "    assess_reader=sst.dev_reader)"
   ]
  },
  {
   "cell_type": "markdown",
   "metadata": {},
   "source": [
    "# Helpers"
   ]
  },
  {
   "cell_type": "code",
   "execution_count": 33,
   "metadata": {},
   "outputs": [],
   "source": [
    "def combine_phis(*phis):\n",
    "    def new_phi(tree):\n",
    "        new_dict = {}\n",
    "        \n",
    "        for phi in phis:\n",
    "            phi_dict = phi(tree)\n",
    "            for key in phi_dict:\n",
    "                if key in new_dict:\n",
    "                    raise Exception('Keys collision: {}'.format(key))\n",
    "                new_dict[key] = phi_dict[key]\n",
    "            \n",
    "        return new_dict\n",
    "    \n",
    "    return new_phi"
   ]
  },
  {
   "cell_type": "markdown",
   "metadata": {},
   "source": [
    "# Baseline + Cross Validation"
   ]
  },
  {
   "cell_type": "code",
   "execution_count": 22,
   "metadata": {},
   "outputs": [],
   "source": [
    "from sklearn.linear_model import LogisticRegressionCV\n",
    "\n",
    "def fit_maxent_cv_classifier(X, y):        \n",
    "    mod = LogisticRegressionCV(fit_intercept=True, n_jobs=-1)\n",
    "    mod.fit(X, y)\n",
    "    return mod"
   ]
  },
  {
   "cell_type": "code",
   "execution_count": 23,
   "metadata": {},
   "outputs": [
    {
     "name": "stdout",
     "output_type": "stream",
     "text": [
      "Accuracy: 0.768\n",
      "             precision    recall  f1-score   support\n",
      "\n",
      "   negative      0.780     0.736     0.757       428\n",
      "   positive      0.759     0.800     0.779       444\n",
      "\n",
      "avg / total      0.769     0.768     0.768       872\n",
      "\n"
     ]
    }
   ],
   "source": [
    "_ = sst.experiment(\n",
    "    unigrams_phi,                      # Free to write your own!\n",
    "    fit_maxent_cv_classifier,             # Free to write your own!\n",
    "    train_reader=sst.train_reader,     # Fixed by the competition.\n",
    "    assess_reader=sst.dev_reader,      # Fixed.\n",
    "    class_func=sst.binary_class_func)  # Fixed."
   ]
  },
  {
   "cell_type": "code",
   "execution_count": null,
   "metadata": {},
   "outputs": [],
   "source": []
  },
  {
   "cell_type": "markdown",
   "metadata": {},
   "source": [
    "# Bigrammerinos"
   ]
  },
  {
   "cell_type": "code",
   "execution_count": 5,
   "metadata": {},
   "outputs": [],
   "source": [
    "def emit_bigrams(unigrams):\n",
    "    for i in range(len(unigrams)):\n",
    "        yield unigrams[i]\n",
    "        if i+1 < len(unigrams):\n",
    "            yield unigrams[i] + ' ' + unigrams[i+1]\n",
    "\n",
    "def bigrams_phi(tree):\n",
    "    return Counter(emit_bigrams(tree.leaves()))"
   ]
  },
  {
   "cell_type": "code",
   "execution_count": 29,
   "metadata": {},
   "outputs": [
    {
     "name": "stdout",
     "output_type": "stream",
     "text": [
      "Accuracy: 0.775\n",
      "             precision    recall  f1-score   support\n",
      "\n",
      "   negative      0.786     0.745     0.765       428\n",
      "   positive      0.766     0.804     0.785       444\n",
      "\n",
      "avg / total      0.776     0.775     0.775       872\n",
      "\n"
     ]
    }
   ],
   "source": [
    "_ = sst.experiment(\n",
    "    bigrams_phi,                      # Free to write your own!\n",
    "    fit_maxent_classifier,             # Free to write your own!\n",
    "    train_reader=sst.train_reader,     # Fixed by the competition.\n",
    "    assess_reader=sst.dev_reader,      # Fixed.\n",
    "    class_func=sst.binary_class_func)  # Fixed."
   ]
  },
  {
   "cell_type": "code",
   "execution_count": null,
   "metadata": {},
   "outputs": [],
   "source": []
  },
  {
   "cell_type": "markdown",
   "metadata": {},
   "source": [
    "# Bigrams No Stop Words"
   ]
  },
  {
   "cell_type": "code",
   "execution_count": 33,
   "metadata": {},
   "outputs": [
    {
     "name": "stdout",
     "output_type": "stream",
     "text": [
      "[nltk_data] Downloading package stopwords to\n",
      "[nltk_data]     /Users/mwilber/nltk_data...\n",
      "[nltk_data]   Unzipping corpora/stopwords.zip.\n"
     ]
    },
    {
     "data": {
      "text/plain": [
       "True"
      ]
     },
     "execution_count": 33,
     "metadata": {},
     "output_type": "execute_result"
    }
   ],
   "source": [
    "import nltk\n",
    "nltk.download('stopwords')"
   ]
  },
  {
   "cell_type": "code",
   "execution_count": 34,
   "metadata": {},
   "outputs": [],
   "source": [
    "from nltk.corpus import stopwords\n",
    "\n",
    "def emit_bigrams_no_stop_words(unigrams):\n",
    "    stop_words = stopwords.words('english')\n",
    "    clean_unigrams = [unigram for unigram in unigrams if unigram not in stop_words]\n",
    "    return emit_bigrams(clean_unigrams)\n",
    "\n",
    "def bigrams_no_stop_words_phi(tree):\n",
    "    return Counter(emit_bigrams_no_stop_words(tree.leaves()))"
   ]
  },
  {
   "cell_type": "code",
   "execution_count": 35,
   "metadata": {},
   "outputs": [
    {
     "name": "stdout",
     "output_type": "stream",
     "text": [
      "Accuracy: 0.764\n",
      "             precision    recall  f1-score   support\n",
      "\n",
      "   negative      0.766     0.748     0.757       428\n",
      "   positive      0.762     0.779     0.771       444\n",
      "\n",
      "avg / total      0.764     0.764     0.764       872\n",
      "\n"
     ]
    }
   ],
   "source": [
    "_ = sst.experiment(\n",
    "    bigrams_no_stop_words_phi,                      # Free to write your own!\n",
    "    fit_maxent_classifier,             # Free to write your own!\n",
    "    train_reader=sst.train_reader,     # Fixed by the competition.\n",
    "    assess_reader=sst.dev_reader,      # Fixed.\n",
    "    class_func=sst.binary_class_func)  # Fixed."
   ]
  },
  {
   "cell_type": "code",
   "execution_count": null,
   "metadata": {},
   "outputs": [],
   "source": []
  },
  {
   "cell_type": "markdown",
   "metadata": {},
   "source": [
    "# Random Forest Unigrams"
   ]
  },
  {
   "cell_type": "code",
   "execution_count": 38,
   "metadata": {},
   "outputs": [],
   "source": [
    "from sklearn.ensemble import RandomForestClassifier\n",
    "\n",
    "def fit_random_forest(X, y):\n",
    "    random_forest = RandomForestClassifier(n_jobs=-1)\n",
    "    \n",
    "    return random_forest.fit(X, y)"
   ]
  },
  {
   "cell_type": "code",
   "execution_count": 39,
   "metadata": {},
   "outputs": [
    {
     "name": "stdout",
     "output_type": "stream",
     "text": [
      "Accuracy: 0.689\n",
      "             precision    recall  f1-score   support\n",
      "\n",
      "   negative      0.685     0.680     0.682       428\n",
      "   positive      0.694     0.698     0.696       444\n",
      "\n",
      "avg / total      0.689     0.689     0.689       872\n",
      "\n"
     ]
    }
   ],
   "source": [
    "_ = sst.experiment(\n",
    "    unigrams_phi,\n",
    "    fit_random_forest,\n",
    "    train_reader=sst.train_reader,  \n",
    "    assess_reader=sst.dev_reader,   \n",
    "    class_func=sst.binary_class_func) "
   ]
  },
  {
   "cell_type": "code",
   "execution_count": 40,
   "metadata": {},
   "outputs": [
    {
     "name": "stdout",
     "output_type": "stream",
     "text": [
      "Accuracy: 0.704\n",
      "             precision    recall  f1-score   support\n",
      "\n",
      "   negative      0.710     0.671     0.690       428\n",
      "   positive      0.699     0.736     0.717       444\n",
      "\n",
      "avg / total      0.704     0.704     0.704       872\n",
      "\n"
     ]
    }
   ],
   "source": [
    "_ = sst.experiment(\n",
    "    bigrams_phi,\n",
    "    fit_random_forest,\n",
    "    train_reader=sst.train_reader,  \n",
    "    assess_reader=sst.dev_reader,   \n",
    "    class_func=sst.binary_class_func) "
   ]
  },
  {
   "cell_type": "code",
   "execution_count": null,
   "metadata": {},
   "outputs": [],
   "source": []
  },
  {
   "cell_type": "markdown",
   "metadata": {},
   "source": [
    "# Support Vector Machine"
   ]
  },
  {
   "cell_type": "code",
   "execution_count": 3,
   "metadata": {},
   "outputs": [],
   "source": [
    "from sklearn.svm import LinearSVC\n",
    "\n",
    "def fit_svm(X, y):\n",
    "    svm = LinearSVC()\n",
    "    \n",
    "    return svm.fit(X, y)"
   ]
  },
  {
   "cell_type": "code",
   "execution_count": 4,
   "metadata": {},
   "outputs": [
    {
     "name": "stdout",
     "output_type": "stream",
     "text": [
      "Accuracy: 0.757\n",
      "             precision    recall  f1-score   support\n",
      "\n",
      "   negative      0.762     0.734     0.748       428\n",
      "   positive      0.752     0.779     0.765       444\n",
      "\n",
      "avg / total      0.757     0.757     0.757       872\n",
      "\n",
      "Error: Dazzles with its fully-written characters , its determined stylishness -LRB- which always relates to characters and story -RRB- and Johnny Dankworth 's best soundtrack in years . marked as negative but was positive\n",
      "Error: Nothing 's at stake , just a twisty double-cross you can smell a mile away -- still , the derivative Nine Queens is lots of fun . marked as negative but was positive\n",
      "Error: A beguiling splash of pastel colors and prankish comedy from Disney . marked as negative but was positive\n",
      "Error: The film serves as a valuable time capsule to remind us of the devastating horror suffered by an entire people . marked as negative but was positive\n",
      "Error: ... an otherwise intense , twist-and-turn thriller that certainly should n't hurt talented young Gaghan 's resume . marked as negative but was positive\n"
     ]
    }
   ],
   "source": [
    "_ = sst.experiment(\n",
    "    unigrams_phi,\n",
    "    fit_svm,\n",
    "    train_reader=sst.train_reader,  \n",
    "    assess_reader=sst.dev_reader,   \n",
    "    class_func=sst.binary_class_func,\n",
    "    view_errors=5) "
   ]
  },
  {
   "cell_type": "code",
   "execution_count": 46,
   "metadata": {},
   "outputs": [
    {
     "name": "stdout",
     "output_type": "stream",
     "text": [
      "Accuracy: 0.755\n",
      "             precision    recall  f1-score   support\n",
      "\n",
      "   negative      0.758     0.734     0.746       428\n",
      "   positive      0.751     0.775     0.763       444\n",
      "\n",
      "avg / total      0.755     0.755     0.754       872\n",
      "\n"
     ]
    }
   ],
   "source": [
    "_ = sst.experiment(\n",
    "    bigrams_phi,\n",
    "    fit_svm,\n",
    "    train_reader=sst.train_reader,  \n",
    "    assess_reader=sst.dev_reader,   \n",
    "    class_func=sst.binary_class_func) "
   ]
  },
  {
   "cell_type": "code",
   "execution_count": null,
   "metadata": {},
   "outputs": [],
   "source": []
  },
  {
   "cell_type": "markdown",
   "metadata": {},
   "source": [
    "# Max Entropy Lemmatized"
   ]
  },
  {
   "cell_type": "code",
   "execution_count": 19,
   "metadata": {},
   "outputs": [
    {
     "name": "stdout",
     "output_type": "stream",
     "text": [
      "[nltk_data] Downloading package wordnet to /Users/mwilber/nltk_data...\n",
      "[nltk_data]   Package wordnet is already up-to-date!\n"
     ]
    }
   ],
   "source": [
    "import nltk\n",
    "from nltk.stem import WordNetLemmatizer\n",
    "\n",
    "nltk.download('wordnet')\n",
    "\n",
    "def lemmatized_unigrams_phi(tree):\n",
    "    lemmatizer = WordNetLemmatizer()\n",
    "    return Counter([lemmatizer.lemmatize(unigram) for unigram in tree.leaves()])\n",
    "\n",
    "def lemmatized_bigrams_phi(tree):\n",
    "    lemmatizer = WordNetLemmatizer()\n",
    "    return Counter(emit_bigrams([lemmatizer.lemmatize(unigram) for unigram in tree.leaves()]))"
   ]
  },
  {
   "cell_type": "code",
   "execution_count": 17,
   "metadata": {},
   "outputs": [
    {
     "name": "stdout",
     "output_type": "stream",
     "text": [
      "Accuracy: 0.763\n",
      "             precision    recall  f1-score   support\n",
      "\n",
      "   negative      0.771     0.734     0.752       428\n",
      "   positive      0.755     0.791     0.772       444\n",
      "\n",
      "avg / total      0.763     0.763     0.762       872\n",
      "\n",
      "Error: A beguiling splash of pastel colors and prankish comedy from Disney . marked as negative but was positive\n",
      "Error: The film serves as a valuable time capsule to remind us of the devastating horror suffered by an entire people . marked as negative but was positive\n",
      "Error: ... an otherwise intense , twist-and-turn thriller that certainly should n't hurt talented young Gaghan 's resume . marked as negative but was positive\n",
      "Error: A poignant , artfully crafted meditation on mortality . marked as negative but was positive\n",
      "Error: Woody Allen 's latest is an ambling , broad comedy about all there is to love -- and hate -- about the movie biz . marked as negative but was positive\n"
     ]
    }
   ],
   "source": [
    "_ = sst.experiment(\n",
    "    lemmatized_bigrams_phi,\n",
    "    fit_maxent_classifier,\n",
    "    train_reader=sst.train_reader,  \n",
    "    assess_reader=sst.dev_reader,   \n",
    "    class_func=sst.binary_class_func,\n",
    "    view_errors=5) "
   ]
  },
  {
   "cell_type": "code",
   "execution_count": 20,
   "metadata": {},
   "outputs": [
    {
     "name": "stdout",
     "output_type": "stream",
     "text": [
      "Accuracy: 0.760\n",
      "             precision    recall  f1-score   support\n",
      "\n",
      "   negative      0.776     0.720     0.747       428\n",
      "   positive      0.747     0.800     0.773       444\n",
      "\n",
      "avg / total      0.761     0.760     0.760       872\n",
      "\n",
      "Error: A beguiling splash of pastel colors and prankish comedy from Disney . marked as negative but was positive\n",
      "Error: The film serves as a valuable time capsule to remind us of the devastating horror suffered by an entire people . marked as negative but was positive\n",
      "Error: ... an otherwise intense , twist-and-turn thriller that certainly should n't hurt talented young Gaghan 's resume . marked as negative but was positive\n",
      "Error: A poignant , artfully crafted meditation on mortality . marked as negative but was positive\n",
      "Error: A rarity among recent Iranian films : It 's a comedy full of gentle humor that chides the absurdity of its protagonist 's plight . marked as negative but was positive\n"
     ]
    }
   ],
   "source": [
    "_ = sst.experiment(\n",
    "    lemmatized_unigrams_phi,\n",
    "    fit_maxent_classifier,\n",
    "    train_reader=sst.train_reader,  \n",
    "    assess_reader=sst.dev_reader,   \n",
    "    class_func=sst.binary_class_func,\n",
    "    view_errors=5) "
   ]
  },
  {
   "cell_type": "code",
   "execution_count": 21,
   "metadata": {},
   "outputs": [
    {
     "data": {
      "text/plain": [
       "['A',\n",
       " 'beguiling',\n",
       " 'splash',\n",
       " 'of',\n",
       " 'pastel',\n",
       " 'color',\n",
       " 'and',\n",
       " 'prankish',\n",
       " 'comedy',\n",
       " 'from',\n",
       " 'Disney']"
      ]
     },
     "execution_count": 21,
     "metadata": {},
     "output_type": "execute_result"
    }
   ],
   "source": [
    "[WordNetLemmatizer().lemmatize(word) for word in 'A beguiling splash of pastel colors and prankish comedy from Disney'.split(' ')]"
   ]
  },
  {
   "cell_type": "code",
   "execution_count": null,
   "metadata": {},
   "outputs": [],
   "source": []
  },
  {
   "cell_type": "markdown",
   "metadata": {},
   "source": [
    "# Stemming"
   ]
  },
  {
   "cell_type": "code",
   "execution_count": 22,
   "metadata": {},
   "outputs": [],
   "source": [
    "from nltk.stem import PorterStemmer\n",
    "\n",
    "def stemmed_unigrams_phi(tree):\n",
    "    stemmer = PorterStemmer()\n",
    "    return Counter([stemmer.stem(unigram) for unigram in tree.leaves()])\n",
    "\n",
    "def stemmed_bigrams_phi(tree):\n",
    "    stemmer = PorterStemmer()\n",
    "    return Counter(emit_bigrams([stemmer.stem(unigram) for unigram in tree.leaves()]))"
   ]
  },
  {
   "cell_type": "code",
   "execution_count": 23,
   "metadata": {},
   "outputs": [
    {
     "name": "stdout",
     "output_type": "stream",
     "text": [
      "Accuracy: 0.766\n",
      "             precision    recall  f1-score   support\n",
      "\n",
      "   negative      0.775     0.738     0.756       428\n",
      "   positive      0.759     0.793     0.775       444\n",
      "\n",
      "avg / total      0.766     0.766     0.766       872\n",
      "\n",
      "Error: A beguiling splash of pastel colors and prankish comedy from Disney . marked as negative but was positive\n",
      "Error: The film serves as a valuable time capsule to remind us of the devastating horror suffered by an entire people . marked as negative but was positive\n",
      "Error: ... an otherwise intense , twist-and-turn thriller that certainly should n't hurt talented young Gaghan 's resume . marked as negative but was positive\n",
      "Error: A rarity among recent Iranian films : It 's a comedy full of gentle humor that chides the absurdity of its protagonist 's plight . marked as negative but was positive\n",
      "Error: Woody Allen 's latest is an ambling , broad comedy about all there is to love -- and hate -- about the movie biz . marked as negative but was positive\n"
     ]
    }
   ],
   "source": [
    "_ = sst.experiment(\n",
    "    stemmed_unigrams_phi,\n",
    "    fit_maxent_classifier,\n",
    "    train_reader=sst.train_reader,  \n",
    "    assess_reader=sst.dev_reader,   \n",
    "    class_func=sst.binary_class_func,\n",
    "    view_errors=5) "
   ]
  },
  {
   "cell_type": "code",
   "execution_count": 24,
   "metadata": {},
   "outputs": [
    {
     "name": "stdout",
     "output_type": "stream",
     "text": [
      "Accuracy: 0.789\n",
      "             precision    recall  f1-score   support\n",
      "\n",
      "   negative      0.798     0.764     0.780       428\n",
      "   positive      0.781     0.813     0.797       444\n",
      "\n",
      "avg / total      0.789     0.789     0.789       872\n",
      "\n",
      "Error: A beguiling splash of pastel colors and prankish comedy from Disney . marked as negative but was positive\n",
      "Error: ... an otherwise intense , twist-and-turn thriller that certainly should n't hurt talented young Gaghan 's resume . marked as negative but was positive\n",
      "Error: A poignant , artfully crafted meditation on mortality . marked as negative but was positive\n",
      "Error: Woody Allen 's latest is an ambling , broad comedy about all there is to love -- and hate -- about the movie biz . marked as negative but was positive\n",
      "Error: It 's a stunning lyrical work of considerable force and truth . marked as negative but was positive\n"
     ]
    }
   ],
   "source": [
    "_ = sst.experiment(\n",
    "    stemmed_bigrams_phi,\n",
    "    fit_maxent_classifier,\n",
    "    train_reader=sst.train_reader,  \n",
    "    assess_reader=sst.dev_reader,   \n",
    "    class_func=sst.binary_class_func,\n",
    "    view_errors=5) "
   ]
  },
  {
   "cell_type": "code",
   "execution_count": null,
   "metadata": {},
   "outputs": [],
   "source": []
  },
  {
   "cell_type": "markdown",
   "metadata": {},
   "source": [
    "# Sentence Length"
   ]
  },
  {
   "cell_type": "code",
   "execution_count": 28,
   "metadata": {},
   "outputs": [],
   "source": [
    "def sentence_length_phi(tree):\n",
    "    return {'sentence_length': len(tree.leaves())}\n",
    "\n",
    "stemmed_bigrams_sentence_length_phi = combine_phis(sentence_length_phi, stemmed_bigrams_phi)"
   ]
  },
  {
   "cell_type": "code",
   "execution_count": 29,
   "metadata": {},
   "outputs": [
    {
     "name": "stdout",
     "output_type": "stream",
     "text": [
      "Accuracy: 0.790\n",
      "             precision    recall  f1-score   support\n",
      "\n",
      "   negative      0.797     0.769     0.782       428\n",
      "   positive      0.784     0.811     0.797       444\n",
      "\n",
      "avg / total      0.790     0.790     0.790       872\n",
      "\n",
      "Error: A beguiling splash of pastel colors and prankish comedy from Disney . marked as negative but was positive\n",
      "Error: ... an otherwise intense , twist-and-turn thriller that certainly should n't hurt talented young Gaghan 's resume . marked as negative but was positive\n",
      "Error: Woody Allen 's latest is an ambling , broad comedy about all there is to love -- and hate -- about the movie biz . marked as negative but was positive\n",
      "Error: It 's a stunning lyrical work of considerable force and truth . marked as negative but was positive\n",
      "Error: The inhospitability of the land emphasizes the spare precision of the narratives and helps to give them an atavistic power , as if they were tales that had been handed down since the beginning of time . marked as negative but was positive\n"
     ]
    }
   ],
   "source": [
    "_ = sst.experiment(\n",
    "    stemmed_bigrams_sentence_length_phi,\n",
    "    fit_maxent_classifier,\n",
    "    train_reader=sst.train_reader,  \n",
    "    assess_reader=sst.dev_reader,   \n",
    "    class_func=sst.binary_class_func,\n",
    "    view_errors=5)"
   ]
  },
  {
   "cell_type": "code",
   "execution_count": null,
   "metadata": {},
   "outputs": [],
   "source": []
  },
  {
   "cell_type": "markdown",
   "metadata": {},
   "source": [
    "# Word Length"
   ]
  },
  {
   "cell_type": "code",
   "execution_count": 34,
   "metadata": {},
   "outputs": [],
   "source": [
    "def average_word_length_phi(tree):\n",
    "    return Counter({'avg_word_length': sum(len(leaf) for leaf in tree.leaves()) / len(tree.leaves())})\n",
    "\n",
    "stemmed_bigrams_sentence_word_length_phi = combine_phis(sentence_length_phi, stemmed_bigrams_phi, average_word_length_phi)"
   ]
  },
  {
   "cell_type": "code",
   "execution_count": 35,
   "metadata": {},
   "outputs": [
    {
     "name": "stdout",
     "output_type": "stream",
     "text": [
      "Accuracy: 0.787\n",
      "             precision    recall  f1-score   support\n",
      "\n",
      "   negative      0.795     0.762     0.778       428\n",
      "   positive      0.779     0.811     0.795       444\n",
      "\n",
      "avg / total      0.787     0.787     0.787       872\n",
      "\n",
      "Error: A beguiling splash of pastel colors and prankish comedy from Disney . marked as negative but was positive\n",
      "Error: ... an otherwise intense , twist-and-turn thriller that certainly should n't hurt talented young Gaghan 's resume . marked as negative but was positive\n",
      "Error: Woody Allen 's latest is an ambling , broad comedy about all there is to love -- and hate -- about the movie biz . marked as negative but was positive\n",
      "Error: It 's a stunning lyrical work of considerable force and truth . marked as negative but was positive\n",
      "Error: The inhospitability of the land emphasizes the spare precision of the narratives and helps to give them an atavistic power , as if they were tales that had been handed down since the beginning of time . marked as negative but was positive\n"
     ]
    }
   ],
   "source": [
    "_ = sst.experiment(\n",
    "    stemmed_bigrams_sentence_word_length_phi,\n",
    "    fit_maxent_classifier,\n",
    "    train_reader=sst.train_reader,  \n",
    "    assess_reader=sst.dev_reader,   \n",
    "    class_func=sst.binary_class_func,\n",
    "    view_errors=5)"
   ]
  },
  {
   "cell_type": "code",
   "execution_count": null,
   "metadata": {},
   "outputs": [],
   "source": []
  },
  {
   "cell_type": "markdown",
   "metadata": {},
   "source": [
    "# Number of Capitalized Words"
   ]
  },
  {
   "cell_type": "code",
   "execution_count": 39,
   "metadata": {},
   "outputs": [],
   "source": [
    "import string\n",
    "\n",
    "def num_capitalized_words_phi(tree):\n",
    "    return Counter({'num_capitalized_words': sum(1 for leaf in tree.leaves() if leaf[0] in string.ascii_uppercase)})\n",
    "\n",
    "stemmed_bigrams_sentence_length_caps_phi = combine_phis(sentence_length_phi, stemmed_bigrams_phi, num_capitalized_words_phi)"
   ]
  },
  {
   "cell_type": "code",
   "execution_count": 40,
   "metadata": {},
   "outputs": [
    {
     "name": "stdout",
     "output_type": "stream",
     "text": [
      "Accuracy: 0.790\n",
      "             precision    recall  f1-score   support\n",
      "\n",
      "   negative      0.794     0.773     0.783       428\n",
      "   positive      0.787     0.806     0.796       444\n",
      "\n",
      "avg / total      0.790     0.790     0.790       872\n",
      "\n",
      "Error: A beguiling splash of pastel colors and prankish comedy from Disney . marked as negative but was positive\n",
      "Error: The film serves as a valuable time capsule to remind us of the devastating horror suffered by an entire people . marked as negative but was positive\n",
      "Error: ... an otherwise intense , twist-and-turn thriller that certainly should n't hurt talented young Gaghan 's resume . marked as negative but was positive\n",
      "Error: Woody Allen 's latest is an ambling , broad comedy about all there is to love -- and hate -- about the movie biz . marked as negative but was positive\n",
      "Error: It 's a stunning lyrical work of considerable force and truth . marked as negative but was positive\n"
     ]
    }
   ],
   "source": [
    "_ = sst.experiment(\n",
    "    stemmed_bigrams_sentence_length_caps_phi,\n",
    "    fit_maxent_classifier,\n",
    "    train_reader=sst.train_reader,  \n",
    "    assess_reader=sst.dev_reader,   \n",
    "    class_func=sst.binary_class_func,\n",
    "    view_errors=5)"
   ]
  },
  {
   "cell_type": "code",
   "execution_count": null,
   "metadata": {},
   "outputs": [],
   "source": []
  }
 ],
 "metadata": {
  "kernelspec": {
   "display_name": "Python 3",
   "language": "python",
   "name": "python3"
  },
  "language_info": {
   "codemirror_mode": {
    "name": "ipython",
    "version": 3
   },
   "file_extension": ".py",
   "mimetype": "text/x-python",
   "name": "python",
   "nbconvert_exporter": "python",
   "pygments_lexer": "ipython3",
   "version": "3.6.1"
  },
  "widgets": {
   "state": {},
   "version": "1.1.2"
  }
 },
 "nbformat": 4,
 "nbformat_minor": 2
}
