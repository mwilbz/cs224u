{
 "cells": [
  {
   "cell_type": "markdown",
   "metadata": {},
   "source": [
    "# Homework 2"
   ]
  },
  {
   "cell_type": "code",
   "execution_count": 1,
   "metadata": {},
   "outputs": [],
   "source": [
    "__author__ = \"Christopher Potts\"\n",
    "__version__ = \"CS224u, Stanford, Spring 2018 term\""
   ]
  },
  {
   "cell_type": "markdown",
   "metadata": {},
   "source": [
    "This homework covers material from the sentiment classification unit. The primary value of doing the work is that it provides more hands-on experience with the dataset and the models we explored. All the code you write has potential value in the bake-off for this unit as well.\n",
    "\n",
    "Submission URL: https://canvas.stanford.edu/courses/83399/quizzes/50657"
   ]
  },
  {
   "cell_type": "markdown",
   "metadata": {},
   "source": [
    "## Questions 1–4: Reproducing a Socher et al's NaiveBayes baseline [4 points]\n",
    "\n",
    "[Socher et al. 2013](http://www.aclweb.org/anthology/D/D13/D13-1170.pdf) compare against a Naive Bayes baseline with bigram features. See how close you can come to reproducing the performance of this model on the binary, root-only problem (values in the rightmost column of their Table 1, rows 1 and 3).\n",
    "\n",
    "Specific tasks:\n",
    "\n",
    "1. Write a bigrams feature function, on the model of `unigrams_phi`. Call this `bigrams_phi`. In writing this function, ensure that each example is padded with start and end symbols (say, `<S>` and `</S>`), so that these contexts are properly reflected in the feature space.\n",
    "\n",
    "1. Write a function `fit_nb_classifier_with_crossvalidation` that serves as a wrapper for `sklearn.naive_bayes.MultinomialNB` and searches over these values for the smoothing parameter `alpha`: `[0.1, 0.5, 1.0, 2.0]`, using 3-fold cross-validation.\n",
    "\n",
    "1. Use `sst.experiment` to run the experiments, assessing against `dev_reader`.\n",
    "\n",
    "__To submit:__\n",
    "\n",
    "1. Your `bigrams_phi`\n",
    "1. Your `fit_nb_classifier`\n",
    "1. Your call to `sst.experiment` \n",
    "1. The average F1 score that `sst.experiment` reported.\n",
    "\n",
    "__A note on performance__: in our experience, the bigrams Naive Bayes model gets around 0.75. It's fine to submit answers with comparable numbers; the Socher et al. baselines are very strong. We're not evaluating how good your model is; we want to see your code, and we're interested to see what the range of F1 scores is across the whole class."
   ]
  },
  {
   "cell_type": "code",
   "execution_count": 5,
   "metadata": {},
   "outputs": [],
   "source": [
    "from collections import Counter\n",
    "\n",
    "def emit_bigrams(unigrams):\n",
    "    full_unigrams = ['<S>'] + unigrams + ['</S>']\n",
    "    for i in range(len(full_unigrams)):\n",
    "        if i+1 < len(full_unigrams):\n",
    "            yield full_unigrams[i] + ' ' + full_unigrams[i+1]\n",
    "\n",
    "def bigrams_phi(tree):\n",
    "    return Counter(emit_bigrams(tree.leaves()))"
   ]
  },
  {
   "cell_type": "code",
   "execution_count": 7,
   "metadata": {},
   "outputs": [],
   "source": [
    "from sklearn.model_selection import GridSearchCV\n",
    "from sklearn.naive_bayes import MultinomialNB\n",
    "\n",
    "def fit_nb_classifier_with_crossvalidation(X, y):\n",
    "    model = MultinomialNB()\n",
    "    parameters = {'alpha': [0.1, 0.5, 1.0, 2.0]}\n",
    "    classifier = GridSearchCV(model, parameters, n_jobs=-1)\n",
    "    \n",
    "    classifier.fit(X, y)\n",
    "    \n",
    "    return classifier"
   ]
  },
  {
   "cell_type": "code",
   "execution_count": 8,
   "metadata": {},
   "outputs": [
    {
     "name": "stdout",
     "output_type": "stream",
     "text": [
      "{'cv': None, 'error_score': 'raise', 'estimator__alpha': 1.0, 'estimator__class_prior': None, 'estimator__fit_prior': True, 'estimator': MultinomialNB(alpha=1.0, class_prior=None, fit_prior=True), 'fit_params': None, 'iid': True, 'n_jobs': -1, 'param_grid': {'alpha': [0.1, 0.5, 1.0, 2.0]}, 'pre_dispatch': '2*n_jobs', 'refit': True, 'return_train_score': 'warn', 'scoring': None, 'verbose': 0}\n",
      "Accuracy: 0.725\n",
      "             precision    recall  f1-score   support\n",
      "\n",
      "   negative      0.685     0.766     0.723       975\n",
      "   positive      0.769     0.688     0.726      1101\n",
      "\n",
      "avg / total      0.730     0.725     0.725      2076\n",
      "\n"
     ]
    },
    {
     "data": {
      "text/plain": [
       "0.7249441080550532"
      ]
     },
     "execution_count": 8,
     "metadata": {},
     "output_type": "execute_result"
    }
   ],
   "source": [
    "from sst import experiment\n",
    "\n",
    "experiment(\n",
    "    bigrams_phi,\n",
    "    fit_nb_classifier_with_crossvalidation\n",
    ")"
   ]
  },
  {
   "cell_type": "markdown",
   "metadata": {},
   "source": [
    "## Question 5–6: A more powerful vector-summing baseline [4 points]\n",
    "\n",
    "In the section [Distributed representations as features](sst_03_neural_networks.ipynb#Distributed-representations-as-features), we looked at a baseline for the binary SST problem in which each example is modeled as the sum of its 50-dimensional GloVe representations. A `LogisticRegression` model was used for prediction. A neural network might do better here, since there might be complex relationships between the input feature dimensions that a linear classifier can't learn. \n",
    "\n",
    "To address this question, rerun the experiment with `tf_shallow_neural_classifier.TfShallowNeuralClassifier` as the classifier. Specs:\n",
    "* Use `sst.experiment` to conduct the experiment. \n",
    "* Using 3-fold cross-validation, exhaustively explore this set of hyperparameter combinations:\n",
    "  * The hidden dimensionality at 50, 100, and 200.\n",
    "  * The hidden activation function as `tf.nn.tanh` or `tf.nn.relu`.\n",
    "* (For all other parameters to `TfShallowNeuralClassifier`, use the defaults.)\n",
    "\n",
    "__To submit:__\n",
    "\n",
    "* Your average F1 score according to `sst.experiment`. \n",
    "* The optimal hyperparameters chosen in your experiment. (You can just paste in the dict that `sst._experiment` prints.)\n",
    "\n",
    "No need to include your supporting code. \n",
    "\n",
    "We're not evaluating the quality of your model. (We've specified the protocols completely, but there will still be a  lot of variation in the results.) However, the primary goal of this question is to get you thinking more about this strikingly good baseline feature representation scheme for SST, so we're sort of hoping you feel compelled to try out variations on your own."
   ]
  },
  {
   "cell_type": "code",
   "execution_count": 11,
   "metadata": {},
   "outputs": [],
   "source": [
    "import utils\n",
    "import os\n",
    "\n",
    "glove_home = 'vsmdata/glove.6B'\n",
    "\n",
    "glove_lookup = utils.glove2dict(\n",
    "    os.path.join(glove_home, 'glove.6B.50d.txt'))"
   ]
  },
  {
   "cell_type": "code",
   "execution_count": 13,
   "metadata": {},
   "outputs": [],
   "source": [
    "import numpy as np\n",
    "\n",
    "def vsm_leaves_phi(tree, lookup, np_func=np.sum):\n",
    "    \"\"\"Represent `tree` as a combination of the vector of its words.\n",
    "    \n",
    "    Parameters\n",
    "    ----------\n",
    "    tree : nltk.Tree   \n",
    "    lookup : dict\n",
    "        From words to vectors.\n",
    "    np_func : function (default: np.sum)\n",
    "        A numpy matrix operation that can be applied columnwise, \n",
    "        like `np.mean`, `np.sum`, or `np.prod`. The requirement is that \n",
    "        the function take `axis=0` as one of its arguments (to ensure\n",
    "        columnwise combination) and that it return a vector of a \n",
    "        fixed length, no matter what the size of the tree is.\n",
    "    \n",
    "    Returns\n",
    "    -------\n",
    "    np.array, dimension `X.shape[1]`\n",
    "            \n",
    "    \"\"\"      \n",
    "    allvecs = np.array([lookup[w] for w in tree.leaves() if w in lookup])    \n",
    "    if len(allvecs) == 0:\n",
    "        dim = len(next(iter(lookup.values())))\n",
    "        feats = np.zeros(dim)\n",
    "    else:       \n",
    "        feats = np_func(allvecs, axis=0)      \n",
    "    return feats\n",
    "\n",
    "def glove_leaves_phi(tree, np_func=np.sum):\n",
    "    return vsm_leaves_phi(tree, glove_lookup, np_func=np_func)"
   ]
  },
  {
   "cell_type": "code",
   "execution_count": 28,
   "metadata": {},
   "outputs": [],
   "source": [
    "from tf_shallow_neural_classifier import TfShallowNeuralClassifier\n",
    "import tensorflow as tf\n",
    "\n",
    "from sklearn.metrics import f1_score, make_scorer\n",
    "\n",
    "def fit_shallow_nn(X, y):\n",
    "    model = TfShallowNeuralClassifier(max_iter=50)\n",
    "    parameters = {'hidden_dim': [50, 100, 200], 'hidden_activation': [tf.nn.tanh, tf.nn.relu]}\n",
    "    scorer = make_scorer(f1_score, pos_label='positive')\n",
    "    classifier = GridSearchCV(model, parameters, scoring=scorer, n_jobs=1)\n",
    "    \n",
    "    classifier.fit(X, y)\n",
    "    \n",
    "    means = classifier.cv_results_['mean_test_score']\n",
    "    stds = classifier.cv_results_['std_test_score']\n",
    "    for mean, std, params in zip(means, stds, classifier.cv_results_['params']):\n",
    "        print(\"%0.3f (+/-%0.03f) for %r\"\n",
    "              % (mean, std * 2, params))\n",
    "    \n",
    "    return classifier"
   ]
  },
  {
   "cell_type": "code",
   "execution_count": 29,
   "metadata": {},
   "outputs": [
    {
     "name": "stderr",
     "output_type": "stream",
     "text": [
      "/Users/mwilber/.pyenv/versions/3.6.1/lib/python3.6/site-packages/tensorflow/python/client/session.py:1714: UserWarning: An interactive session is already active. This can cause out-of-memory errors in some cases. You must explicitly call `InteractiveSession.close()` to release resources held by the other session(s).\n",
      "  warnings.warn('An interactive session is already active. This can '\n",
      "Iteration 50: loss: 2.8569328188896184"
     ]
    },
    {
     "name": "stdout",
     "output_type": "stream",
     "text": [
      "0.652 (+/-0.040) for {'hidden_activation': <function tanh at 0x11fa65bf8>, 'hidden_dim': 50}\n",
      "0.693 (+/-0.077) for {'hidden_activation': <function tanh at 0x11fa65bf8>, 'hidden_dim': 100}\n",
      "0.690 (+/-0.137) for {'hidden_activation': <function tanh at 0x11fa65bf8>, 'hidden_dim': 200}\n",
      "0.672 (+/-0.066) for {'hidden_activation': <function relu at 0x11f988e18>, 'hidden_dim': 50}\n",
      "0.696 (+/-0.040) for {'hidden_activation': <function relu at 0x11f988e18>, 'hidden_dim': 100}\n",
      "0.710 (+/-0.022) for {'hidden_activation': <function relu at 0x11f988e18>, 'hidden_dim': 200}\n",
      "Accuracy: 0.695\n",
      "             precision    recall  f1-score   support\n",
      "\n",
      "   negative      0.638     0.851     0.729      1002\n",
      "   positive      0.798     0.549     0.651      1074\n",
      "\n",
      "avg / total      0.721     0.695     0.689      2076\n",
      "\n"
     ]
    },
    {
     "data": {
      "text/plain": [
       "0.690113231431255"
      ]
     },
     "execution_count": 29,
     "metadata": {},
     "output_type": "execute_result"
    }
   ],
   "source": [
    "experiment(glove_leaves_phi, fit_shallow_nn, vectorize=False)"
   ]
  },
  {
   "cell_type": "markdown",
   "metadata": {},
   "source": [
    "## Questions 7–8: Bidirectional RNN [2 points]\n",
    "\n",
    "The auxiliary notebook `tensorflow_models.ipynb` [subclasses TfRNNClassifier with a bidirectional RNN](tensorflow_models.ipynb#A-bidirectional-RNN-Classifier). In this model, the RNN is run in both directions and the concatenation of the two final states is used as the basis for the classification decision. Evaluate this model against the SST dev set. You can set up the model however you wish for this.\n",
    "\n",
    "__To submit:__\n",
    "\n",
    "* Your call to `TfBidirectionalRNNClassifier` (so that we can see the hyperparmeters you chose).\n",
    "* Your average F1 score according to a `classification_report` on the `dev` set.\n",
    "\n",
    "As above, we will not evaluate you based on how good your F1 score is. You just need to submit one. __There is even value in seeing what really doesn't work__, so low scores have interest!"
   ]
  },
  {
   "cell_type": "code",
   "execution_count": 31,
   "metadata": {},
   "outputs": [],
   "source": [
    "import sst\n",
    "\n",
    "X_rnn_train, y_rnn_train = sst.build_binary_rnn_dataset(sst.train_reader)\n",
    "sst_train_vocab = sst.get_vocab(X_rnn_train, n_words=3000)"
   ]
  },
  {
   "cell_type": "code",
   "execution_count": 36,
   "metadata": {},
   "outputs": [],
   "source": [
    "from tf_rnn_classifier import TfRNNClassifier\n",
    "\n",
    "class TfBidirectionalRNNClassifier(TfRNNClassifier):\n",
    "    \n",
    "    def build_graph(self):\n",
    "        self._define_embedding()\n",
    "\n",
    "        self.inputs = tf.placeholder(\n",
    "            tf.int32, [None, self.max_length])\n",
    "\n",
    "        self.ex_lengths = tf.placeholder(tf.int32, [None])\n",
    "\n",
    "        # Outputs as usual:\n",
    "        self.outputs = tf.placeholder(\n",
    "            tf.float32, shape=[None, self.output_dim])\n",
    "\n",
    "        # This converts the inputs to a list of lists of dense vector\n",
    "        # representations:\n",
    "        self.feats = tf.nn.embedding_lookup(\n",
    "            self.embedding, self.inputs)\n",
    "\n",
    "        # Same cell structure as the base class, but we have\n",
    "        # forward and backward versions:\n",
    "        self.cell_fw = tf.nn.rnn_cell.LSTMCell(\n",
    "            self.hidden_dim, activation=self.hidden_activation)\n",
    "        \n",
    "        self.cell_bw = tf.nn.rnn_cell.LSTMCell(\n",
    "            self.hidden_dim, activation=self.hidden_activation)\n",
    "\n",
    "        # Run the RNN:\n",
    "        outputs, finals = tf.nn.bidirectional_dynamic_rnn(\n",
    "            self.cell_fw,\n",
    "            self.cell_bw,\n",
    "            self.feats,\n",
    "            dtype=tf.float32,\n",
    "            sequence_length=self.ex_lengths)\n",
    "      \n",
    "        # finals is a pair of `LSTMStateTuple` objects, which are themselves\n",
    "        # pairs of Tensors (x, y), where y is the output state, according to\n",
    "        # https://www.tensorflow.org/api_docs/python/tf/contrib/rnn/LSTMStateTuple\n",
    "        # Thus, we want the second member of these pairs:\n",
    "        last_fw, last_bw = finals          \n",
    "        last_fw, last_bw = last_fw[1], last_bw[1]\n",
    "        \n",
    "        last = tf.concat((last_fw, last_bw), axis=1)\n",
    "        \n",
    "        self.feat_dim = self.hidden_dim * 2               \n",
    "\n",
    "        # Softmax classifier on the final hidden state:\n",
    "        self.W_hy = self.weight_init(\n",
    "            self.feat_dim, self.output_dim, 'W_hy')\n",
    "        self.b_y = self.bias_init(self.output_dim, 'b_y')\n",
    "        self.model = tf.matmul(last, self.W_hy) + self.b_y    "
   ]
  },
  {
   "cell_type": "code",
   "execution_count": 37,
   "metadata": {},
   "outputs": [
    {
     "name": "stdout",
     "output_type": "stream",
     "text": [
      "WARNING:tensorflow:From /Users/mwilber/.pyenv/versions/3.6.1/lib/python3.6/site-packages/tensorflow/python/ops/rnn.py:417: calling reverse_sequence (from tensorflow.python.ops.array_ops) with seq_dim is deprecated and will be removed in a future version.\n",
      "Instructions for updating:\n",
      "seq_dim is deprecated, use seq_axis instead\n",
      "WARNING:tensorflow:From /Users/mwilber/.pyenv/versions/3.6.1/lib/python3.6/site-packages/tensorflow/python/util/deprecation.py:432: calling reverse_sequence (from tensorflow.python.ops.array_ops) with batch_dim is deprecated and will be removed in a future version.\n",
      "Instructions for updating:\n",
      "batch_dim is deprecated, use batch_axis instead\n"
     ]
    },
    {
     "name": "stderr",
     "output_type": "stream",
     "text": [
      "Iteration 100: loss: 3.460171163082123"
     ]
    },
    {
     "name": "stdout",
     "output_type": "stream",
     "text": [
      "Accuracy: 0.513\n",
      "             precision    recall  f1-score   support\n",
      "\n",
      "   negative      0.000     0.000     0.000      1010\n",
      "   positive      0.513     1.000     0.679      1066\n",
      "\n",
      "avg / total      0.264     0.513     0.348      2076\n",
      "\n"
     ]
    },
    {
     "data": {
      "text/plain": [
       "0.33927434754933167"
      ]
     },
     "execution_count": 37,
     "metadata": {},
     "output_type": "execute_result"
    }
   ],
   "source": [
    "def fit_bidirectional_rnn(X, y):\n",
    "    model = TfBidirectionalRNNClassifier(sst_train_vocab)\n",
    "    \n",
    "    return model.fit(X, y)\n",
    "\n",
    "experiment(glove_leaves_phi, fit_bidirectional_rnn, vectorize=False)"
   ]
  },
  {
   "cell_type": "code",
   "execution_count": null,
   "metadata": {},
   "outputs": [],
   "source": []
  }
 ],
 "metadata": {
  "kernelspec": {
   "display_name": "Python 3",
   "language": "python",
   "name": "python3"
  },
  "language_info": {
   "codemirror_mode": {
    "name": "ipython",
    "version": 3
   },
   "file_extension": ".py",
   "mimetype": "text/x-python",
   "name": "python",
   "nbconvert_exporter": "python",
   "pygments_lexer": "ipython3",
   "version": "3.6.1"
  }
 },
 "nbformat": 4,
 "nbformat_minor": 2
}
